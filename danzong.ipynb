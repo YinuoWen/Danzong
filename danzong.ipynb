{
 "cells": [
  {
   "cell_type": "code",
   "execution_count": 4,
   "metadata": {},
   "outputs": [
    {
     "name": "stderr",
     "output_type": "stream",
     "text": [
      "d:\\python\\Lib\\site-packages\\cvxpy\\expressions\\expression.py:612: UserWarning: \n",
      "This use of ``*`` has resulted in matrix multiplication.\n",
      "Using ``*`` for matrix multiplication has been deprecated since CVXPY 1.1.\n",
      "    Use ``*`` for matrix-scalar and vector-scalar multiplication.\n",
      "    Use ``@`` for matrix-matrix and matrix-vector multiplication.\n",
      "    Use ``multiply`` for elementwise multiplication.\n",
      "This code path has been hit 2 times so far.\n",
      "\n",
      "  warnings.warn(msg, UserWarning)\n"
     ]
    }
   ],
   "source": [
    "import cvxpy as cp\n",
    "import numpy as np\n",
    "# Define problem parameters\n",
    "n = 2\n",
    "c = np.ones((n+1, 1))\n",
    "b = np.vstack((c, np.zeros((n, 1))))\n",
    "mu = 0.3 * np.ones((3*n, 1))\n",
    "h = 0.5 * np.ones((n, 1))\n",
    "sigma1 = np.diag(h.flatten())\n",
    "sigma2 = np.diag(h.flatten())\n",
    "sigma = np.zeros((3*n, 3*n))\n",
    "sigma[0:n, 0:n] = sigma1 + sigma2\n",
    "sigma[n:2*n, n:2*n] = sigma1\n",
    "sigma[2*n:3*n, 2*n:3*n] = sigma2\n",
    "\n",
    "# Define matrices A, P, Q, and O\n",
    "P = np.zeros((n+1, n))\n",
    "P[0, 0] = -1\n",
    "P[n, n-1] = 1\n",
    "for i in range(1, n):\n",
    "    P[i, i-1] = 1\n",
    "    P[i, i] = -1\n",
    "\n",
    "Q = np.zeros((n, n))\n",
    "Q[n-1, n-1] = -1\n",
    "for i in range(n-1):\n",
    "    Q[i, i] = -1\n",
    "    Q[i, i+1] = 1\n",
    "\n",
    "O = np.zeros((n, n+1))\n",
    "for i in range(n):\n",
    "    O[i, i+1] = 1\n",
    "\n",
    "A = np.zeros((2*n+1, 4*n+1))\n",
    "A[0:n+1, 0:n+1] = np.eye(n+1) \n",
    "A[0:n+1, n+1:2*n+1] = np.zeros((n+1, n))\n",
    "A[0:n+1, 2*n+1:3*n+1] = P\n",
    "A[0:n+1, 3*n+1:4*n+1] = np.zeros((n+1, n))\n",
    "A[n+1:2*n+1, 0:n+1] = O\n",
    "A[n+1:2*n+1, n+1:2*n+1] = Q\n",
    "A[n+1:2*n+1, 2*n+1:3*n+1] = np.zeros((n, n))\n",
    "A[n+1:2*n+1, 3*n+1:4*n+1] = -np.eye(n)\n",
    "\n",
    "T = 8000\n",
    "\n",
    "# Define optimization variables\n",
    "s = cp.Variable(n)\n",
    "alph = cp.Variable()\n",
    "bet = cp.Variable(3*n)\n",
    "T0 = cp.Variable((3*n, 3*n), PSD=True)\n",
    "T1 = cp.Variable(2*n+1)\n",
    "X1 = cp.Variable((7*n+2, 7*n+2), PSD=True)\n",
    "\n",
    "rho = cp.hstack((s[0:n-1] + s[1:n], s[n-1], 0, s[0:n], np.zeros((2, )), np.zeros((n, )))) #1,1,1,2,2,2\n",
    "\n",
    "\n",
    "# Define objective function\n",
    "obj = cp.sum(cp.diag(sigma*T0)) + mu.T @ bet + alph\n",
    "problem = cp.Problem(cp.Minimize(obj))\n",
    "\n",
    "# Define constraints\n",
    "constraints = [\n",
    "    X1[0, 0] == alph,\n",
    "    X1[1:3*n+1, 0] == 1/2*bet,\n",
    "    X1[1:3*n+1, 1:3*n+1] == T0,\n",
    "    X1[3*n+1:7*n+2, 0] == 1/2*rho,\n",
    "    X1[3*n+1:6*n+2, 1:6*n+2] == np.zeros((3*n+1, 6*n+1)),\n",
    "    X1[6*n+2:7*n+2, 1:7*n+1] == np.zeros((n, 7*n)),\n",
    "    cp.sum(s[0:n]) <= T,\n",
    "    s >= 0\n",
    "]\n",
    "\n",
    "# Define semidefinite constraint\n",
    "Y = cp.Variable((7*n+2, 7*n+2), PSD=True)\n",
    "for i in range(n):\n",
    "    T1i = T1[i]\n",
    "    bi = b[i]\n",
    "    C = A[i, 0:4*n+1]\n",
    "    Ai = C.T\n",
    "    Bi = cp.hstack((-bi,cp.Constant(value=np.zeros((3*n,))), Ai))\n",
    "    #Bi = cp.vstack((-bi, np.zeros((3*n, 1)), Ai))\n",
    "    Y += T1i * (Bi.T @ Bi) # \n",
    "constraints.append(X1 + Y == cp.Variable((7*n+2, 7*n+2), PSD=True))\n",
    "\n"
   ]
  },
  {
   "cell_type": "code",
   "execution_count": null,
   "metadata": {},
   "outputs": [],
   "source": [
    "# check the solver family\n",
    "problem.solve(verbose=True)"
   ]
  },
  {
   "cell_type": "code",
   "execution_count": 10,
   "metadata": {},
   "outputs": [
    {
     "name": "stdout",
     "output_type": "stream",
     "text": [
      "===============================================================================\n",
      "                                     CVXPY                                     \n",
      "                                     v1.3.1                                    \n",
      "===============================================================================\n",
      "(CVXPY) Jun 13 08:28:15 PM: Your problem has 818 variables, 9 constraints, and 0 parameters.\n",
      "(CVXPY) Jun 13 08:28:15 PM: It is compliant with the following grammars: DCP, DQCP\n",
      "(CVXPY) Jun 13 08:28:15 PM: (If you need to solve this problem multiple times, but with different data, consider using parameters.)\n",
      "(CVXPY) Jun 13 08:28:15 PM: CVXPY will first compile your problem; then, it will invoke a numerical solver to obtain a solution.\n",
      "-------------------------------------------------------------------------------\n",
      "                                  Compilation                                  \n",
      "-------------------------------------------------------------------------------\n",
      "(CVXPY) Jun 13 08:28:15 PM: Compiling problem (target solver=SCS).\n",
      "(CVXPY) Jun 13 08:28:15 PM: Reduction chain: Dcp2Cone -> CvxAttr2Constr -> ConeMatrixStuffing -> SCS\n",
      "(CVXPY) Jun 13 08:28:15 PM: Applying reduction Dcp2Cone\n",
      "(CVXPY) Jun 13 08:28:15 PM: Applying reduction CvxAttr2Constr\n",
      "(CVXPY) Jun 13 08:28:15 PM: Applying reduction ConeMatrixStuffing\n",
      "(CVXPY) Jun 13 08:28:15 PM: Applying reduction SCS\n",
      "(CVXPY) Jun 13 08:28:15 PM: Finished problem compilation (took 3.080e-02 seconds).\n",
      "-------------------------------------------------------------------------------\n",
      "                                Numerical solver                               \n",
      "-------------------------------------------------------------------------------\n",
      "(CVXPY) Jun 13 08:28:15 PM: Invoking solver SCS  to obtain a solution.\n",
      "------------------------------------------------------------------\n",
      "\t       SCS v3.2.3 - Splitting Conic Solver\n",
      "\t(c) Brendan O'Donoghue, Stanford University, 2012\n",
      "------------------------------------------------------------------\n",
      "problem:  variables n: 443, constraints m: 859\n",
      "cones: \t  z: primal zero / dual free vars: 427\n",
      "\t  l: linear vars: 3\n",
      "\t  s: psd vars: 429, ssize: 4\n",
      "settings: eps_abs: 1.0e-05, eps_rel: 1.0e-05, eps_infeas: 1.0e-07\n",
      "\t  alpha: 1.50, scale: 1.00e-01, adaptive_scale: 1\n",
      "\t  max_iters: 100000, normalize: 1, rho_x: 1.00e-06\n",
      "\t  acceleration_lookback: 10, acceleration_interval: 10\n",
      "lin-sys:  sparse-direct-amd-qdldl\n",
      "\t  nnz(A): 1932, nnz(P): 0\n",
      "------------------------------------------------------------------\n",
      " iter | pri res | dua res |   gap   |   obj   |  scale  | time (s)\n",
      "------------------------------------------------------------------\n",
      "     0| 8.00e+03  5.25e+02  4.83e+01  2.41e+01  1.00e-01  3.48e-03 \n",
      "   175| 3.22e-05  1.04e-08  4.26e-06  2.13e-06  1.15e-03  2.09e-01 \n",
      "------------------------------------------------------------------\n",
      "status:  solved\n",
      "timings: total: 2.09e-01s = setup: 1.84e-03s + solve: 2.07e-01s\n",
      "\t lin-sys: 3.47e-03s, cones: 2.01e-01s, accel: 2.25e-04s\n",
      "------------------------------------------------------------------\n",
      "objective = 0.000002\n",
      "------------------------------------------------------------------\n",
      "-------------------------------------------------------------------------------\n",
      "                                    Summary                                    \n",
      "-------------------------------------------------------------------------------\n",
      "(CVXPY) Jun 13 08:28:15 PM: Problem status: optimal\n",
      "(CVXPY) Jun 13 08:28:15 PM: Optimal value: 4.265e-06\n",
      "(CVXPY) Jun 13 08:28:15 PM: Compilation took 3.080e-02 seconds\n",
      "(CVXPY) Jun 13 08:28:15 PM: Solver (including time spent in interface) took 2.090e-01 seconds\n",
      "Optimal value:  4.264612495458194e-06\n",
      "s:  [7.00023028e-07 5.78739132e-07]\n",
      "alph:  2.026290839208908e-07\n",
      "bet:  [2.04152374e-06 2.04152397e-06 2.54537273e-06 2.54537235e-06\n",
      " 2.54537206e-06 2.54537271e-06]\n",
      "T0:  [[-4.99801439e-08 -4.98900318e-08 -5.26746527e-08 -5.26745781e-08\n",
      "  -5.26746711e-08 -5.26745260e-08]\n",
      " [-4.98900318e-08 -4.99794268e-08 -5.26746955e-08 -5.26746607e-08\n",
      "  -5.26746486e-08 -5.26746327e-08]\n",
      " [-5.26746527e-08 -5.26746955e-08 -5.87086681e-08 -5.84854911e-08\n",
      "  -5.84855180e-08 -5.84854453e-08]\n",
      " [-5.26745781e-08 -5.26746607e-08 -5.84854911e-08 -5.87090625e-08\n",
      "  -5.84856571e-08 -5.84856286e-08]\n",
      " [-5.26746711e-08 -5.26746486e-08 -5.84855180e-08 -5.84856571e-08\n",
      "  -5.87094516e-08 -5.84857455e-08]\n",
      " [-5.26745260e-08 -5.26746327e-08 -5.84854453e-08 -5.84856286e-08\n",
      "  -5.84857455e-08 -5.87093965e-08]]\n",
      "T1:  [-2.17558008 -1.63168297  0.          0.          0.        ]\n",
      "X1:  [[ 2.02706836e-07  1.02077464e-06  1.02077475e-06  1.27269860e-06\n",
      "   1.27269832e-06  1.27269822e-06  1.27269851e-06  6.38951830e-07\n",
      "   2.89152200e-07 -6.01422624e-11  3.49775972e-07  2.89152428e-07\n",
      "  -6.01422055e-11 -6.01422593e-11 -6.01420697e-11 -1.25302429e-08]\n",
      " [ 1.02077464e-06 -5.00322338e-08 -4.99268931e-08 -5.27135653e-08\n",
      "  -5.27134941e-08 -5.27136102e-08 -5.27134510e-08 -6.01323843e-11\n",
      "  -6.01373433e-11 -6.01420274e-11 -6.01372552e-11 -6.01379969e-11\n",
      "  -6.01420525e-11 -6.01421798e-11 -6.01420709e-11 -1.72491235e-09]\n",
      " [ 1.02077475e-06 -4.99268931e-08 -5.00316783e-08 -5.27136109e-08\n",
      "  -5.27135524e-08 -5.27135653e-08 -5.27135441e-08 -6.01339065e-11\n",
      "  -6.01383627e-11 -6.01418781e-11 -6.01380643e-11 -6.01377136e-11\n",
      "  -6.01420956e-11 -6.01421529e-11 -6.01419793e-11 -1.72491237e-09]\n",
      " [ 1.27269860e-06 -5.27135653e-08 -5.27136109e-08 -5.87700551e-08\n",
      "  -5.85286695e-08 -5.85287171e-08 -5.85286889e-08 -6.01142023e-11\n",
      "  -6.01316564e-11 -6.01422324e-11 -6.01255472e-11 -6.01313271e-11\n",
      "  -6.01421724e-11 -6.01423015e-11 -6.01423359e-11 -4.37746061e-09]\n",
      " [ 1.27269832e-06 -5.27134941e-08 -5.27135524e-08 -5.85286695e-08\n",
      "  -5.87703591e-08 -5.85288624e-08 -5.85288450e-08 -6.01146667e-11\n",
      "  -6.01311263e-11 -6.01418788e-11 -6.01268118e-11 -6.01310652e-11\n",
      "  -6.01416889e-11 -6.01417363e-11 -6.01420371e-11 -4.37746013e-09]\n",
      " [ 1.27269822e-06 -5.27136102e-08 -5.27135653e-08 -5.85287171e-08\n",
      "  -5.85288624e-08 -5.87707943e-08 -5.85289387e-08 -6.01158653e-11\n",
      "  -6.01310574e-11 -6.01420690e-11 -6.01269885e-11 -6.01306859e-11\n",
      "  -6.01420073e-11 -6.01419558e-11 -6.01420910e-11 -4.37746044e-09]\n",
      " [ 1.27269851e-06 -5.27134510e-08 -5.27135441e-08 -5.85286889e-08\n",
      "  -5.85288450e-08 -5.85289387e-08 -5.87707606e-08 -6.01149739e-11\n",
      "  -6.01304932e-11 -6.01419797e-11 -6.01265707e-11 -6.01303943e-11\n",
      "  -6.01420307e-11 -6.01420403e-11 -6.01419985e-11 -4.37746037e-09]\n",
      " [ 6.38951830e-07 -6.01323843e-11 -6.01339065e-11 -6.01142023e-11\n",
      "  -6.01146667e-11 -6.01158653e-11 -6.01149739e-11 -4.25956710e-11\n",
      "  -3.00306057e-11 -3.00708736e-11 -2.99455190e-11 -3.00303299e-11\n",
      "  -3.00708927e-11 -3.00709138e-11 -6.01428548e-11 -2.32210024e-08]\n",
      " [ 2.89152200e-07 -6.01373433e-11 -6.01383627e-11 -6.01316564e-11\n",
      "  -6.01311263e-11 -6.01310574e-11 -6.01304932e-11 -3.00306057e-11\n",
      "  -4.25219454e-11 -3.00706980e-11 -3.00504907e-11 -3.00582066e-11\n",
      "  -3.00707341e-11 -3.00707365e-11 -6.01423525e-11 -9.66176692e-09]\n",
      " [-6.01422624e-11 -6.01420274e-11 -6.01418781e-11 -6.01422324e-11\n",
      "  -6.01418788e-11 -6.01420690e-11 -6.01419797e-11 -3.00708736e-11\n",
      "  -3.00706980e-11 -4.25428885e-11 -3.00711015e-11 -3.00706631e-11\n",
      "  -3.00707189e-11 -3.00708581e-11 -6.01423082e-11 -5.68781210e-11]\n",
      " [ 3.49775972e-07 -6.01372552e-11 -6.01380643e-11 -6.01255472e-11\n",
      "  -6.01268118e-11 -6.01269885e-11 -6.01265707e-11 -2.99455190e-11\n",
      "  -3.00504907e-11 -3.00711015e-11 -4.25542854e-11 -3.00594546e-11\n",
      "  -3.00711439e-11 -3.00711423e-11 -6.01431710e-11 -1.36173135e-08]\n",
      " [ 2.89152428e-07 -6.01379969e-11 -6.01377136e-11 -6.01313271e-11\n",
      "  -6.01310652e-11 -6.01306859e-11 -6.01303943e-11 -3.00303299e-11\n",
      "  -3.00582066e-11 -3.00706631e-11 -3.00594546e-11 -4.25216239e-11\n",
      "  -3.00707421e-11 -3.00707081e-11 -6.01422236e-11 -9.66176666e-09]\n",
      " [-6.01422055e-11 -6.01420525e-11 -6.01420956e-11 -6.01421724e-11\n",
      "  -6.01416889e-11 -6.01420073e-11 -6.01420307e-11 -3.00708927e-11\n",
      "  -3.00707341e-11 -3.00707189e-11 -3.00711439e-11 -3.00707421e-11\n",
      "  -4.25432388e-11 -3.00709903e-11 -6.01421831e-11 -5.68783050e-11]\n",
      " [-6.01422593e-11 -6.01421798e-11 -6.01421529e-11 -6.01423015e-11\n",
      "  -6.01417363e-11 -6.01419558e-11 -6.01420403e-11 -3.00709138e-11\n",
      "  -3.00707365e-11 -3.00708581e-11 -3.00711423e-11 -3.00707081e-11\n",
      "  -3.00709903e-11 -4.25431943e-11 -6.01424416e-11 -5.68783394e-11]\n",
      " [-6.01420697e-11 -6.01420709e-11 -6.01419793e-11 -6.01423359e-11\n",
      "  -6.01420371e-11 -6.01420910e-11 -6.01419985e-11 -6.01428548e-11\n",
      "  -6.01423525e-11 -6.01423082e-11 -6.01431710e-11 -6.01422236e-11\n",
      "  -6.01421831e-11 -6.01424416e-11 -4.25426999e-11 -5.70795664e-11]\n",
      " [-1.25302429e-08 -1.72491235e-09 -1.72491237e-09 -4.37746061e-09\n",
      "  -4.37746013e-09 -4.37746044e-09 -4.37746037e-09 -2.32210024e-08\n",
      "  -9.66176692e-09 -5.68781210e-11 -1.36173135e-08 -9.66176666e-09\n",
      "  -5.68783050e-11 -5.68783394e-11 -5.70795664e-11  3.65435763e+00]]\n"
     ]
    }
   ],
   "source": [
    "# Solve the problem\n",
    "problem = cp.Problem(cp.Minimize(obj), constraints)\n",
    "problem.solve(solver=cp.SCS,verbose=True)\n",
    "\n",
    "# Print the optimal values\n",
    "print(\"Optimal value: \", problem.value)\n",
    "print(\"s: \", s.value)\n",
    "print(\"alph: \", alph.value)\n",
    "print(\"bet: \", bet.value)\n",
    "print(\"T0: \", T0.value)\n",
    "print(\"T1: \", T1.value)\n",
    "print(\"X1: \", X1.value)"
   ]
  },
  {
   "cell_type": "code",
   "execution_count": 121,
   "metadata": {},
   "outputs": [],
   "source": [
    "import cvxpy as cp\n",
    "import numpy as np\n",
    "# Define problem parameters\n",
    "n = 3\n",
    "c = np.ones((n+1, 1))\n",
    "b = np.vstack((c, np.zeros((n, 1))))\n",
    "mu = 0.3 * np.ones((3*n, 1))\n",
    "h = 0.5 * np.ones((n, 1))\n",
    "sigma1 = np.diag(h.flatten())\n",
    "sigma2 = np.diag(h.flatten())\n",
    "sigma = np.zeros((3*n, 3*n))\n",
    "sigma[0:n, 0:n] = sigma1 + sigma2\n",
    "sigma[n:2*n, n:2*n] = sigma1\n",
    "sigma[2*n:3*n, 2*n:3*n] = sigma2"
   ]
  },
  {
   "cell_type": "code",
   "execution_count": 122,
   "metadata": {},
   "outputs": [],
   "source": [
    "# Define matrices A, P, Q, and O\n",
    "P = np.zeros((n+1, n))\n",
    "P[0, 0] = -1\n",
    "P[n, n-1] = 1\n",
    "for i in range(1, n):\n",
    "    P[i, i-1] = 1\n",
    "    P[i, i] = -1\n",
    "\n",
    "Q = np.zeros((n, n))\n",
    "Q[n-1, n-1] = -1\n",
    "for i in range(n-1):\n",
    "    Q[i, i] = -1\n",
    "    Q[i, i+1] = 1\n",
    "\n",
    "O = np.zeros((n, n+1))\n",
    "for i in range(n):\n",
    "    O[i, i+1] = 1\n",
    "\n",
    "A = np.zeros((2*n+1, 4*n+1))\n",
    "A[0:n+1, 0:n+1] = np.eye(n+1) \n",
    "A[0:n+1, n+1:2*n+1] = np.zeros((n+1, n))\n",
    "A[0:n+1, 2*n+1:3*n+1] = P\n",
    "A[0:n+1, 3*n+1:4*n+1] = np.zeros((n+1, n))\n",
    "A[n+1:2*n+1, 0:n+1] = O\n",
    "A[n+1:2*n+1, n+1:2*n+1] = Q\n",
    "A[n+1:2*n+1, 2*n+1:3*n+1] = np.zeros((n, n))\n",
    "A[n+1:2*n+1, 3*n+1:4*n+1] = -np.eye(n)"
   ]
  },
  {
   "cell_type": "code",
   "execution_count": 123,
   "metadata": {},
   "outputs": [
    {
     "data": {
      "text/plain": [
       "array([[ 1.,  0.,  0.,  0.,  0., -1.,  0.,  0.,  0.],\n",
       "       [ 0.,  1.,  0.,  0.,  0.,  1., -1.,  0.,  0.],\n",
       "       [ 0.,  0.,  1.,  0.,  0.,  0.,  1.,  0.,  0.],\n",
       "       [ 0.,  1.,  0., -1.,  1.,  0.,  0., -1., -0.],\n",
       "       [ 0.,  0.,  1.,  0., -1.,  0.,  0., -0., -1.]])"
      ]
     },
     "execution_count": 123,
     "metadata": {},
     "output_type": "execute_result"
    }
   ],
   "source": [
    "A"
   ]
  },
  {
   "cell_type": "code",
   "execution_count": 124,
   "metadata": {},
   "outputs": [],
   "source": [
    "T = 8000\n",
    "\n",
    "# Define optimization variables\n",
    "s = cp.Variable(n)\n",
    "alph = cp.Variable()\n",
    "bet = cp.Variable(3*n)\n",
    "T0 = cp.Variable((3*n, 3*n), PSD=True)\n",
    "T1 = cp.Variable(2*n+1)\n",
    "X1 = cp.Variable((7*n+2, 7*n+2), PSD=True)\n",
    "\n",
    "rho = cp.hstack((s[0:n-1] + s[1:n], s[n-1], 0, s[0:n], np.zeros((2, )), np.zeros((n, )))) #1,1,1,2,2,2"
   ]
  },
  {
   "cell_type": "code",
   "execution_count": 125,
   "metadata": {},
   "outputs": [],
   "source": [
    "a = cp.hstack((s[0],s[1]))"
   ]
  },
  {
   "cell_type": "code",
   "execution_count": 126,
   "metadata": {},
   "outputs": [
    {
     "data": {
      "text/plain": [
       "Expression(AFFINE, UNKNOWN, (9,))"
      ]
     },
     "execution_count": 126,
     "metadata": {},
     "output_type": "execute_result"
    }
   ],
   "source": [
    "rho"
   ]
  },
  {
   "cell_type": "code",
   "execution_count": 172,
   "metadata": {},
   "outputs": [
    {
     "name": "stderr",
     "output_type": "stream",
     "text": [
      "d:\\python\\Lib\\site-packages\\cvxpy\\expressions\\expression.py:612: UserWarning: \n",
      "This use of ``*`` has resulted in matrix multiplication.\n",
      "Using ``*`` for matrix multiplication has been deprecated since CVXPY 1.1.\n",
      "    Use ``*`` for matrix-scalar and vector-scalar multiplication.\n",
      "    Use ``@`` for matrix-matrix and matrix-vector multiplication.\n",
      "    Use ``multiply`` for elementwise multiplication.\n",
      "This code path has been hit 19 times so far.\n",
      "\n",
      "  warnings.warn(msg, UserWarning)\n"
     ]
    }
   ],
   "source": [
    "# Define optimization variables\n",
    "s = cp.Variable(n)\n",
    "alph = cp.Variable()\n",
    "bet = cp.Variable(3*n)\n",
    "T0 = cp.Variable((3*n, 3*n), PSD=True)\n",
    "T1 = cp.Variable(2*n+1)\n",
    "X1 = cp.Variable((7*n+2, 7*n+2), PSD=True)\n",
    "\n",
    "# Define rho\n",
    "rho = cp.hstack((s[0:n-1] + s[1:n], s[n-1], 0, s[0:n], np.zeros((2, )), np.zeros((n, ))))\n",
    "\n",
    "# Define objective function\n",
    "obj = cp.sum(cp.diag(sigma*T0)) + mu.T @ bet + alph\n",
    "problem = cp.Problem(cp.Minimize(obj))\n",
    "\n",
    "# Define constraints\n",
    "constraints = [\n",
    "    X1[0, 0] == alph,\n",
    "    X1[1:3*n+1, 0] == 1/2*bet,\n",
    "    X1[1:3*n+1, 1:3*n+1] == T0,\n",
    "    X1[3*n+1:7*n+2, 0] == 1/2*rho,\n",
    "    X1[3*n+1:6*n+2, 1:6*n+2] == np.zeros((3*n+1, 6*n+1)),\n",
    "    X1[6*n+2:7*n+2, 1:7*n+1] == np.zeros((n, 7*n)),\n",
    "    cp.sum(s[0:n]) <= T,\n",
    "    s >= 0\n",
    "]"
   ]
  },
  {
   "cell_type": "code",
   "execution_count": 173,
   "metadata": {},
   "outputs": [
    {
     "data": {
      "text/plain": [
       "array([[ 1.,  0.,  0.,  0.,  0., -1.,  0.,  0.,  0.],\n",
       "       [ 0.,  1.,  0.,  0.,  0.,  1., -1.,  0.,  0.],\n",
       "       [ 0.,  0.,  1.,  0.,  0.,  0.,  1.,  0.,  0.],\n",
       "       [ 0.,  1.,  0., -1.,  1.,  0.,  0., -1., -0.],\n",
       "       [ 0.,  0.,  1.,  0., -1.,  0.,  0., -0., -1.]])"
      ]
     },
     "execution_count": 173,
     "metadata": {},
     "output_type": "execute_result"
    }
   ],
   "source": [
    "A"
   ]
  },
  {
   "cell_type": "code",
   "execution_count": 174,
   "metadata": {},
   "outputs": [
    {
     "data": {
      "text/plain": [
       "array([[0.],\n",
       "       [0.],\n",
       "       [0.],\n",
       "       [0.],\n",
       "       [0.],\n",
       "       [0.]])"
      ]
     },
     "execution_count": 174,
     "metadata": {},
     "output_type": "execute_result"
    }
   ],
   "source": [
    "np.zeros((3*n, 1))"
   ]
  },
  {
   "cell_type": "code",
   "execution_count": 105,
   "metadata": {},
   "outputs": [],
   "source": [
    "Y = cp.Variable((7*n+2, 7*n+2), PSD=True)"
   ]
  },
  {
   "cell_type": "code",
   "execution_count": 149,
   "metadata": {},
   "outputs": [],
   "source": [
    "ss = bi.T #array([[1.]])\n"
   ]
  },
  {
   "cell_type": "code",
   "execution_count": 152,
   "metadata": {},
   "outputs": [
    {
     "data": {
      "text/plain": [
       "array([0., 0., 0., 0., 0., 0.])"
      ]
     },
     "execution_count": 152,
     "metadata": {},
     "output_type": "execute_result"
    }
   ],
   "source": [
    "np.zeros((3*n,))"
   ]
  },
  {
   "cell_type": "code",
   "execution_count": 165,
   "metadata": {},
   "outputs": [],
   "source": [
    "T1i = T1[i]\n",
    "bi = b[i]\n",
    "C = A[i, 0:4*n+1]\n",
    "Ai = C.T\n",
    "Bi = cp.hstack((cp.Constant(value=np.zeros((3*n,))), bi, Ai))\n"
   ]
  },
  {
   "cell_type": "code",
   "execution_count": 166,
   "metadata": {},
   "outputs": [
    {
     "data": {
      "text/plain": [
       "Expression(CONSTANT, UNKNOWN, (16,))"
      ]
     },
     "execution_count": 166,
     "metadata": {},
     "output_type": "execute_result"
    }
   ],
   "source": [
    "Bi"
   ]
  },
  {
   "cell_type": "code",
   "execution_count": 139,
   "metadata": {},
   "outputs": [
    {
     "data": {
      "text/plain": [
       "array([ 1.,  0.,  0.,  0.,  0., -1.,  0.,  0.,  0.])"
      ]
     },
     "execution_count": 139,
     "metadata": {},
     "output_type": "execute_result"
    }
   ],
   "source": [
    "A[i, 0:4*n+1] #array([ 1.,  0.,  0.,  0.,  0., -1.,  0.,  0.,  0.])"
   ]
  },
  {
   "cell_type": "code",
   "execution_count": 156,
   "metadata": {},
   "outputs": [
    {
     "data": {
      "text/plain": [
       "array([ 1.,  0.,  0.,  0.,  0., -1.,  0.,  0.,  0.])"
      ]
     },
     "execution_count": 156,
     "metadata": {},
     "output_type": "execute_result"
    }
   ],
   "source": [
    "A[i, 0:4*n+1]"
   ]
  },
  {
   "cell_type": "code",
   "execution_count": 175,
   "metadata": {},
   "outputs": [
    {
     "name": "stdout",
     "output_type": "stream",
     "text": [
      "Optimal value:  4.264612495458194e-06\n",
      "s:  [7.00023028e-07 5.78739132e-07]\n",
      "alph:  2.026290839208908e-07\n",
      "bet:  [2.04152374e-06 2.04152397e-06 2.54537273e-06 2.54537235e-06\n",
      " 2.54537206e-06 2.54537271e-06]\n",
      "T0:  [[-4.99801439e-08 -4.98900318e-08 -5.26746527e-08 -5.26745781e-08\n",
      "  -5.26746711e-08 -5.26745260e-08]\n",
      " [-4.98900318e-08 -4.99794268e-08 -5.26746955e-08 -5.26746607e-08\n",
      "  -5.26746486e-08 -5.26746327e-08]\n",
      " [-5.26746527e-08 -5.26746955e-08 -5.87086681e-08 -5.84854911e-08\n",
      "  -5.84855180e-08 -5.84854453e-08]\n",
      " [-5.26745781e-08 -5.26746607e-08 -5.84854911e-08 -5.87090625e-08\n",
      "  -5.84856571e-08 -5.84856286e-08]\n",
      " [-5.26746711e-08 -5.26746486e-08 -5.84855180e-08 -5.84856571e-08\n",
      "  -5.87094516e-08 -5.84857455e-08]\n",
      " [-5.26745260e-08 -5.26746327e-08 -5.84854453e-08 -5.84856286e-08\n",
      "  -5.84857455e-08 -5.87093965e-08]]\n",
      "T1:  [-2.17558008 -1.63168297  0.          0.          0.        ]\n",
      "X1:  [[ 2.02706836e-07  1.02077464e-06  1.02077475e-06  1.27269860e-06\n",
      "   1.27269832e-06  1.27269822e-06  1.27269851e-06  6.38951830e-07\n",
      "   2.89152200e-07 -6.01422624e-11  3.49775972e-07  2.89152428e-07\n",
      "  -6.01422055e-11 -6.01422593e-11 -6.01420697e-11 -1.25302429e-08]\n",
      " [ 1.02077464e-06 -5.00322338e-08 -4.99268931e-08 -5.27135653e-08\n",
      "  -5.27134941e-08 -5.27136102e-08 -5.27134510e-08 -6.01323843e-11\n",
      "  -6.01373433e-11 -6.01420274e-11 -6.01372552e-11 -6.01379969e-11\n",
      "  -6.01420525e-11 -6.01421798e-11 -6.01420709e-11 -1.72491235e-09]\n",
      " [ 1.02077475e-06 -4.99268931e-08 -5.00316783e-08 -5.27136109e-08\n",
      "  -5.27135524e-08 -5.27135653e-08 -5.27135441e-08 -6.01339065e-11\n",
      "  -6.01383627e-11 -6.01418781e-11 -6.01380643e-11 -6.01377136e-11\n",
      "  -6.01420956e-11 -6.01421529e-11 -6.01419793e-11 -1.72491237e-09]\n",
      " [ 1.27269860e-06 -5.27135653e-08 -5.27136109e-08 -5.87700551e-08\n",
      "  -5.85286695e-08 -5.85287171e-08 -5.85286889e-08 -6.01142023e-11\n",
      "  -6.01316564e-11 -6.01422324e-11 -6.01255472e-11 -6.01313271e-11\n",
      "  -6.01421724e-11 -6.01423015e-11 -6.01423359e-11 -4.37746061e-09]\n",
      " [ 1.27269832e-06 -5.27134941e-08 -5.27135524e-08 -5.85286695e-08\n",
      "  -5.87703591e-08 -5.85288624e-08 -5.85288450e-08 -6.01146667e-11\n",
      "  -6.01311263e-11 -6.01418788e-11 -6.01268118e-11 -6.01310652e-11\n",
      "  -6.01416889e-11 -6.01417363e-11 -6.01420371e-11 -4.37746013e-09]\n",
      " [ 1.27269822e-06 -5.27136102e-08 -5.27135653e-08 -5.85287171e-08\n",
      "  -5.85288624e-08 -5.87707943e-08 -5.85289387e-08 -6.01158653e-11\n",
      "  -6.01310574e-11 -6.01420690e-11 -6.01269885e-11 -6.01306859e-11\n",
      "  -6.01420073e-11 -6.01419558e-11 -6.01420910e-11 -4.37746044e-09]\n",
      " [ 1.27269851e-06 -5.27134510e-08 -5.27135441e-08 -5.85286889e-08\n",
      "  -5.85288450e-08 -5.85289387e-08 -5.87707606e-08 -6.01149739e-11\n",
      "  -6.01304932e-11 -6.01419797e-11 -6.01265707e-11 -6.01303943e-11\n",
      "  -6.01420307e-11 -6.01420403e-11 -6.01419985e-11 -4.37746037e-09]\n",
      " [ 6.38951830e-07 -6.01323843e-11 -6.01339065e-11 -6.01142023e-11\n",
      "  -6.01146667e-11 -6.01158653e-11 -6.01149739e-11 -4.25956710e-11\n",
      "  -3.00306057e-11 -3.00708736e-11 -2.99455190e-11 -3.00303299e-11\n",
      "  -3.00708927e-11 -3.00709138e-11 -6.01428548e-11 -2.32210024e-08]\n",
      " [ 2.89152200e-07 -6.01373433e-11 -6.01383627e-11 -6.01316564e-11\n",
      "  -6.01311263e-11 -6.01310574e-11 -6.01304932e-11 -3.00306057e-11\n",
      "  -4.25219454e-11 -3.00706980e-11 -3.00504907e-11 -3.00582066e-11\n",
      "  -3.00707341e-11 -3.00707365e-11 -6.01423525e-11 -9.66176692e-09]\n",
      " [-6.01422624e-11 -6.01420274e-11 -6.01418781e-11 -6.01422324e-11\n",
      "  -6.01418788e-11 -6.01420690e-11 -6.01419797e-11 -3.00708736e-11\n",
      "  -3.00706980e-11 -4.25428885e-11 -3.00711015e-11 -3.00706631e-11\n",
      "  -3.00707189e-11 -3.00708581e-11 -6.01423082e-11 -5.68781210e-11]\n",
      " [ 3.49775972e-07 -6.01372552e-11 -6.01380643e-11 -6.01255472e-11\n",
      "  -6.01268118e-11 -6.01269885e-11 -6.01265707e-11 -2.99455190e-11\n",
      "  -3.00504907e-11 -3.00711015e-11 -4.25542854e-11 -3.00594546e-11\n",
      "  -3.00711439e-11 -3.00711423e-11 -6.01431710e-11 -1.36173135e-08]\n",
      " [ 2.89152428e-07 -6.01379969e-11 -6.01377136e-11 -6.01313271e-11\n",
      "  -6.01310652e-11 -6.01306859e-11 -6.01303943e-11 -3.00303299e-11\n",
      "  -3.00582066e-11 -3.00706631e-11 -3.00594546e-11 -4.25216239e-11\n",
      "  -3.00707421e-11 -3.00707081e-11 -6.01422236e-11 -9.66176666e-09]\n",
      " [-6.01422055e-11 -6.01420525e-11 -6.01420956e-11 -6.01421724e-11\n",
      "  -6.01416889e-11 -6.01420073e-11 -6.01420307e-11 -3.00708927e-11\n",
      "  -3.00707341e-11 -3.00707189e-11 -3.00711439e-11 -3.00707421e-11\n",
      "  -4.25432388e-11 -3.00709903e-11 -6.01421831e-11 -5.68783050e-11]\n",
      " [-6.01422593e-11 -6.01421798e-11 -6.01421529e-11 -6.01423015e-11\n",
      "  -6.01417363e-11 -6.01419558e-11 -6.01420403e-11 -3.00709138e-11\n",
      "  -3.00707365e-11 -3.00708581e-11 -3.00711423e-11 -3.00707081e-11\n",
      "  -3.00709903e-11 -4.25431943e-11 -6.01424416e-11 -5.68783394e-11]\n",
      " [-6.01420697e-11 -6.01420709e-11 -6.01419793e-11 -6.01423359e-11\n",
      "  -6.01420371e-11 -6.01420910e-11 -6.01419985e-11 -6.01428548e-11\n",
      "  -6.01423525e-11 -6.01423082e-11 -6.01431710e-11 -6.01422236e-11\n",
      "  -6.01421831e-11 -6.01424416e-11 -4.25426999e-11 -5.70795664e-11]\n",
      " [-1.25302429e-08 -1.72491235e-09 -1.72491237e-09 -4.37746061e-09\n",
      "  -4.37746013e-09 -4.37746044e-09 -4.37746037e-09 -2.32210024e-08\n",
      "  -9.66176692e-09 -5.68781210e-11 -1.36173135e-08 -9.66176666e-09\n",
      "  -5.68783050e-11 -5.68783394e-11 -5.70795664e-11  3.65435763e+00]]\n"
     ]
    }
   ],
   "source": [
    "\n",
    "\n",
    "# Define semidefinite constraint\n",
    "Y = cp.Variable((7*n+2, 7*n+2), PSD=True)\n",
    "for i in range(n):\n",
    "    T1i = T1[i]\n",
    "    bi = b[i]\n",
    "    C = A[i, 0:4*n+1]\n",
    "    Ai = C.T\n",
    "    Bi = cp.hstack((cp.Constant(value=np.zeros((3*n,))), bi, Ai))\n",
    "    #Bi = cp.vstack((-bi, np.zeros((3*n, 1)), Ai))\n",
    "    Y += T1i * (Bi.T @ Bi) # \n",
    "constraints.append(X1 + Y == cp.Variable((7*n+2, 7*n+2), PSD=True))\n",
    "\n",
    "# Solve the problem\n",
    "problem = cp.Problem(cp.Minimize(obj), constraints)\n",
    "problem.solve()\n",
    "\n",
    "# Print the optimal values\n",
    "print(\"Optimal value: \", problem.value)\n",
    "print(\"s: \", s.value)\n",
    "print(\"alph: \", alph.value)\n",
    "print(\"bet: \", bet.value)\n",
    "print(\"T0: \", T0.value)\n",
    "print(\"T1: \", T1.value)\n",
    "print(\"X1: \", X1.value)"
   ]
  },
  {
   "cell_type": "code",
   "execution_count": 112,
   "metadata": {},
   "outputs": [
    {
     "ename": "IndexError",
     "evalue": "Too many indices for expression.",
     "output_type": "error",
     "traceback": [
      "\u001b[1;31m---------------------------------------------------------------------------\u001b[0m",
      "\u001b[1;31mIndexError\u001b[0m                                Traceback (most recent call last)",
      "Cell \u001b[1;32mIn[112], line 2\u001b[0m\n\u001b[0;32m      1\u001b[0m \u001b[39mfor\u001b[39;00m i \u001b[39min\u001b[39;00m \u001b[39mrange\u001b[39m(n):\n\u001b[1;32m----> 2\u001b[0m     T1i \u001b[39m=\u001b[39m T1[i, \u001b[39m0\u001b[39;49m]\n\u001b[0;32m      3\u001b[0m     bi \u001b[39m=\u001b[39m b[i, \u001b[39m0\u001b[39m]\n\u001b[0;32m      4\u001b[0m     C \u001b[39m=\u001b[39m A[i, \u001b[39m0\u001b[39m:\u001b[39m4\u001b[39m\u001b[39m*\u001b[39mn\u001b[39m+\u001b[39m\u001b[39m1\u001b[39m]\n",
      "File \u001b[1;32md:\\python\\Lib\\site-packages\\cvxpy\\expressions\\expression.py:472\u001b[0m, in \u001b[0;36mExpression.__getitem__\u001b[1;34m(self, key)\u001b[0m\n\u001b[0;32m    470\u001b[0m     \u001b[39mreturn\u001b[39;00m cvxtypes\u001b[39m.\u001b[39mspecial_index()(\u001b[39mself\u001b[39m, key)\n\u001b[0;32m    471\u001b[0m \u001b[39melse\u001b[39;00m:\n\u001b[1;32m--> 472\u001b[0m     \u001b[39mreturn\u001b[39;00m cvxtypes\u001b[39m.\u001b[39;49mindex()(\u001b[39mself\u001b[39;49m, key)\n",
      "File \u001b[1;32md:\\python\\Lib\\site-packages\\cvxpy\\atoms\\affine\\index.py:50\u001b[0m, in \u001b[0;36mindex.__init__\u001b[1;34m(self, expr, key, orig_key)\u001b[0m\n\u001b[0;32m     48\u001b[0m \u001b[39mif\u001b[39;00m orig_key \u001b[39mis\u001b[39;00m \u001b[39mNone\u001b[39;00m:\n\u001b[0;32m     49\u001b[0m     \u001b[39mself\u001b[39m\u001b[39m.\u001b[39m_orig_key \u001b[39m=\u001b[39m key\n\u001b[1;32m---> 50\u001b[0m     \u001b[39mself\u001b[39m\u001b[39m.\u001b[39mkey \u001b[39m=\u001b[39m ku\u001b[39m.\u001b[39;49mvalidate_key(key, expr\u001b[39m.\u001b[39;49mshape)\n\u001b[0;32m     51\u001b[0m \u001b[39melse\u001b[39;00m:\n\u001b[0;32m     52\u001b[0m     \u001b[39mself\u001b[39m\u001b[39m.\u001b[39m_orig_key \u001b[39m=\u001b[39m orig_key\n",
      "File \u001b[1;32md:\\python\\Lib\\site-packages\\cvxpy\\utilities\\key_utils.py:54\u001b[0m, in \u001b[0;36mvalidate_key\u001b[1;34m(key, shape)\u001b[0m\n\u001b[0;32m     52\u001b[0m slices \u001b[39m=\u001b[39m \u001b[39mlen\u001b[39m(key) \u001b[39m-\u001b[39m none_count\n\u001b[0;32m     53\u001b[0m \u001b[39mif\u001b[39;00m slices \u001b[39m>\u001b[39m \u001b[39mlen\u001b[39m(shape):\n\u001b[1;32m---> 54\u001b[0m     \u001b[39mraise\u001b[39;00m \u001b[39mIndexError\u001b[39;00m(\u001b[39m\"\u001b[39m\u001b[39mToo many indices for expression.\u001b[39m\u001b[39m\"\u001b[39m)\n\u001b[0;32m     55\u001b[0m \u001b[39melif\u001b[39;00m slices \u001b[39m<\u001b[39m \u001b[39mlen\u001b[39m(shape):\n\u001b[0;32m     56\u001b[0m     \u001b[39m# Add : to the right.\u001b[39;00m\n\u001b[0;32m     57\u001b[0m     key \u001b[39m=\u001b[39m \u001b[39mtuple\u001b[39m(\u001b[39mlist\u001b[39m(key) \u001b[39m+\u001b[39m [\u001b[39mslice\u001b[39m(\u001b[39mNone\u001b[39;00m, \u001b[39mNone\u001b[39;00m, \u001b[39mNone\u001b[39;00m)]\u001b[39m*\u001b[39m(\u001b[39mlen\u001b[39m(shape) \u001b[39m-\u001b[39m slices))\n",
      "\u001b[1;31mIndexError\u001b[0m: Too many indices for expression."
     ]
    }
   ],
   "source": [
    "for i in range(n):\n",
    "    T1i = T1[i, 0]\n",
    "    bi = b[i, 0]\n",
    "    C = A[i, 0:4*n+1]\n",
    "    Ai = C.T\n",
    "    Bi = np.vstack((-bi, np.zeros((3*n, 1)), Ai))\n",
    "    Y += T1i * (Bi @ Bi.T)"
   ]
  },
  {
   "cell_type": "code",
   "execution_count": null,
   "metadata": {},
   "outputs": [
    {
     "ename": "ValueError",
     "evalue": "setting an array element with a sequence.",
     "output_type": "error",
     "traceback": [
      "\u001b[1;31m---------------------------------------------------------------------------\u001b[0m",
      "\u001b[1;31mTypeError\u001b[0m                                 Traceback (most recent call last)",
      "\u001b[1;31mTypeError\u001b[0m: float() argument must be a string or a real number, not 'multiply'",
      "\nThe above exception was the direct cause of the following exception:\n",
      "\u001b[1;31mValueError\u001b[0m                                Traceback (most recent call last)",
      "Cell \u001b[1;32mIn[32], line 49\u001b[0m\n\u001b[0;32m     44\u001b[0m \u001b[39m# Define objective function and constraints\u001b[39;00m\n\u001b[0;32m     45\u001b[0m obj \u001b[39m=\u001b[39m cp\u001b[39m.\u001b[39mMinimize(cp\u001b[39m.\u001b[39msum(cp\u001b[39m.\u001b[39mdiag(sigma \u001b[39m@\u001b[39m T0)) \u001b[39m+\u001b[39m mu\u001b[39m.\u001b[39mT \u001b[39m@\u001b[39m bet \u001b[39m+\u001b[39m alph)\n\u001b[0;32m     46\u001b[0m constraints \u001b[39m=\u001b[39m [X1[\u001b[39m0\u001b[39m, \u001b[39m0\u001b[39m] \u001b[39m==\u001b[39m alph,\n\u001b[0;32m     47\u001b[0m                X1[\u001b[39m1\u001b[39m:\u001b[39m3\u001b[39m\u001b[39m*\u001b[39mn\u001b[39m+\u001b[39m\u001b[39m1\u001b[39m, \u001b[39m0\u001b[39m] \u001b[39m==\u001b[39m \u001b[39m0.5\u001b[39m \u001b[39m*\u001b[39m bet,\n\u001b[0;32m     48\u001b[0m                X1[\u001b[39m1\u001b[39m:\u001b[39m3\u001b[39m\u001b[39m*\u001b[39mn\u001b[39m+\u001b[39m\u001b[39m1\u001b[39m, \u001b[39m1\u001b[39m:\u001b[39m3\u001b[39m\u001b[39m*\u001b[39mn\u001b[39m+\u001b[39m\u001b[39m1\u001b[39m] \u001b[39m==\u001b[39m T0,\n\u001b[1;32m---> 49\u001b[0m                X1[\u001b[39m3\u001b[39;49m\u001b[39m*\u001b[39;49mn\u001b[39m+\u001b[39;49m\u001b[39m1\u001b[39;49m:\u001b[39m7\u001b[39;49m\u001b[39m*\u001b[39;49mn\u001b[39m+\u001b[39;49m\u001b[39m2\u001b[39;49m, \u001b[39m0\u001b[39;49m] \u001b[39m==\u001b[39;49m \u001b[39m0.5\u001b[39;49m \u001b[39m*\u001b[39;49m rho,\n\u001b[0;32m     50\u001b[0m                X1[\u001b[39m3\u001b[39m\u001b[39m*\u001b[39mn\u001b[39m+\u001b[39m\u001b[39m1\u001b[39m:\u001b[39m6\u001b[39m\u001b[39m*\u001b[39mn\u001b[39m+\u001b[39m\u001b[39m2\u001b[39m, \u001b[39m1\u001b[39m:\u001b[39m6\u001b[39m\u001b[39m*\u001b[39mn\u001b[39m+\u001b[39m\u001b[39m2\u001b[39m] \u001b[39m==\u001b[39m np\u001b[39m.\u001b[39mzeros((\u001b[39m3\u001b[39m\u001b[39m*\u001b[39mn\u001b[39m+\u001b[39m\u001b[39m1\u001b[39m, \u001b[39m6\u001b[39m\u001b[39m*\u001b[39mn\u001b[39m+\u001b[39m\u001b[39m1\u001b[39m)),\n\u001b[0;32m     51\u001b[0m                X1[\u001b[39m6\u001b[39m\u001b[39m*\u001b[39mn\u001b[39m+\u001b[39m\u001b[39m2\u001b[39m:\u001b[39m7\u001b[39m\u001b[39m*\u001b[39mn\u001b[39m+\u001b[39m\u001b[39m2\u001b[39m, \u001b[39m1\u001b[39m:\u001b[39m7\u001b[39m\u001b[39m*\u001b[39mn\u001b[39m+\u001b[39m\u001b[39m2\u001b[39m] \u001b[39m==\u001b[39m np\u001b[39m.\u001b[39mzeros((n, \u001b[39m7\u001b[39m\u001b[39m*\u001b[39mn\u001b[39m+\u001b[39m\u001b[39m1\u001b[39m)),\n\u001b[0;32m     52\u001b[0m                cp\u001b[39m.\u001b[39msum(s[\u001b[39m0\u001b[39m:n]) \u001b[39m<\u001b[39m\u001b[39m=\u001b[39m T,\n\u001b[0;32m     53\u001b[0m                s \u001b[39m>\u001b[39m\u001b[39m=\u001b[39m \u001b[39m0\u001b[39m]\n\u001b[0;32m     55\u001b[0m \u001b[39mfor\u001b[39;00m i \u001b[39min\u001b[39;00m \u001b[39mrange\u001b[39m(n):\n\u001b[0;32m     56\u001b[0m     T1i \u001b[39m=\u001b[39m T1[i, \u001b[39m0\u001b[39m]\n",
      "File \u001b[1;32md:\\python\\Lib\\site-packages\\cvxpy\\expressions\\expression.py:49\u001b[0m, in \u001b[0;36m_cast_other.<locals>.cast_op\u001b[1;34m(self, other)\u001b[0m\n\u001b[0;32m     45\u001b[0m \u001b[39m@wraps\u001b[39m(binary_op)\n\u001b[0;32m     46\u001b[0m \u001b[39mdef\u001b[39;00m \u001b[39mcast_op\u001b[39m(\u001b[39mself\u001b[39m, other):\n\u001b[0;32m     47\u001b[0m \u001b[39m    \u001b[39m\u001b[39m\"\"\"A wrapped binary operator that can handle non-Expression arguments.\u001b[39;00m\n\u001b[0;32m     48\u001b[0m \u001b[39m    \"\"\"\u001b[39;00m\n\u001b[1;32m---> 49\u001b[0m     other \u001b[39m=\u001b[39m \u001b[39mself\u001b[39;49m\u001b[39m.\u001b[39;49mcast_to_const(other)\n\u001b[0;32m     50\u001b[0m     \u001b[39mreturn\u001b[39;00m binary_op(\u001b[39mself\u001b[39m, other)\n",
      "File \u001b[1;32md:\\python\\Lib\\site-packages\\cvxpy\\expressions\\expression.py:526\u001b[0m, in \u001b[0;36mExpression.cast_to_const\u001b[1;34m(expr)\u001b[0m\n\u001b[0;32m    521\u001b[0m         \u001b[39mif\u001b[39;00m \u001b[39misinstance\u001b[39m(elem, Expression):\n\u001b[0;32m    522\u001b[0m             \u001b[39mraise\u001b[39;00m \u001b[39mValueError\u001b[39;00m(\n\u001b[0;32m    523\u001b[0m                 \u001b[39m\"\u001b[39m\u001b[39mThe input must be a single CVXPY Expression, not a list. \u001b[39m\u001b[39m\"\u001b[39m\n\u001b[0;32m    524\u001b[0m                 \u001b[39m\"\u001b[39m\u001b[39mCombine Expressions using atoms such as bmat, hstack, and vstack.\u001b[39m\u001b[39m\"\u001b[39m\n\u001b[0;32m    525\u001b[0m             )\n\u001b[1;32m--> 526\u001b[0m \u001b[39mreturn\u001b[39;00m expr \u001b[39mif\u001b[39;00m \u001b[39misinstance\u001b[39m(expr, Expression) \u001b[39melse\u001b[39;00m cvxtypes\u001b[39m.\u001b[39;49mconstant()(expr)\n",
      "File \u001b[1;32md:\\python\\Lib\\site-packages\\cvxpy\\expressions\\constants\\constant.py:48\u001b[0m, in \u001b[0;36mConstant.__init__\u001b[1;34m(self, value)\u001b[0m\n\u001b[0;32m     46\u001b[0m     \u001b[39mself\u001b[39m\u001b[39m.\u001b[39m_sparse \u001b[39m=\u001b[39m \u001b[39mTrue\u001b[39;00m\n\u001b[0;32m     47\u001b[0m \u001b[39melse\u001b[39;00m:\n\u001b[1;32m---> 48\u001b[0m     \u001b[39mself\u001b[39m\u001b[39m.\u001b[39m_value \u001b[39m=\u001b[39m intf\u001b[39m.\u001b[39;49mDEFAULT_INTF\u001b[39m.\u001b[39;49mconst_to_matrix(value)\n\u001b[0;32m     49\u001b[0m     \u001b[39mself\u001b[39m\u001b[39m.\u001b[39m_sparse \u001b[39m=\u001b[39m \u001b[39mFalse\u001b[39;00m\n\u001b[0;32m     50\u001b[0m \u001b[39mself\u001b[39m\u001b[39m.\u001b[39m_imag: Optional[\u001b[39mbool\u001b[39m] \u001b[39m=\u001b[39m \u001b[39mNone\u001b[39;00m\n",
      "File \u001b[1;32md:\\python\\Lib\\site-packages\\cvxpy\\interface\\numpy_interface\\ndarray_interface.py:53\u001b[0m, in \u001b[0;36mNDArrayInterface.const_to_matrix\u001b[1;34m(self, value, convert_scalars)\u001b[0m\n\u001b[0;32m     51\u001b[0m     \u001b[39mreturn\u001b[39;00m result\n\u001b[0;32m     52\u001b[0m \u001b[39melse\u001b[39;00m:\n\u001b[1;32m---> 53\u001b[0m     \u001b[39mreturn\u001b[39;00m result\u001b[39m.\u001b[39mastype(numpy\u001b[39m.\u001b[39mfloat64)\n",
      "\u001b[1;31mValueError\u001b[0m: setting an array element with a sequence."
     ]
    }
   ],
   "source": [
    "import cvxpy as cp\n",
    "import numpy as np\n",
    "\n",
    "\n",
    "\n",
    "# Define objective function and constraints\n",
    "obj = cp.Minimize(cp.sum(cp.diag(sigma @ T0)) + mu.T @ bet + alph)\n",
    "constraints = [X1[0, 0] == alph,\n",
    "               X1[1:3*n+1, 0] == 0.5 * bet,\n",
    "               X1[1:3*n+1, 1:3*n+1] == T0,\n",
    "               X1[3*n+1:7*n+2, 0] == 0.5 * rho,\n",
    "               X1[3*n+1:6*n+2, 1:6*n+2] == np.zeros((3*n+1, 6*n+1)),\n",
    "               X1[6*n+2:7*n+2, 1:7*n+2] == np.zeros((n, 7*n+1)),\n",
    "               cp.sum(s[0:n]) <= T,\n",
    "               s >= 0]\n",
    "\n",
    "for i in range(n):\n",
    "    T1i = T1[i, 0]\n",
    "    bi = b[i, 0]\n",
    "    C = A[i, 0:4*n+1] # Fix the index error here\n",
    "    Ai = C.T\n",
    "    Bi = np.vstack((-bi, np.zeros((3*n, 1)), Ai))\n",
    "    constraints.append(T1i * (Bi @ Bi.T) >> 0)\n",
    "\n",
    "\n",
    "# Solve the problem\n",
    "prob = cp.Problem(obj, constraints)\n",
    "prob.solve()\n",
    "\n",
    "# Print the optimal values\n",
    "print(\"Optimal value: \", prob.value)\n",
    "print(\"s: \", s.value)\n",
    "print(\"alph: \", alph.value)\n",
    "print(\"bet: \", bet.value)\n",
    "print(\"T0: \", T0.value)\n",
    "print(\"T1: \", T1.value)\n",
    "print(\"X1: \", X1.value)"
   ]
  },
  {
   "cell_type": "code",
   "execution_count": null,
   "metadata": {},
   "outputs": [
    {
     "name": "stdout",
     "output_type": "stream",
     "text": [
      "[-1.79109255e-19  2.85112420e-02  2.79973443e-19  3.37658729e-20\n",
      " -2.72802663e-19  1.49285011e-01 -9.94082533e-20  8.35373900e-20\n",
      "  2.46718649e-01  5.78224144e-01 -4.03739463e-19  1.01242860e-03\n",
      " -9.28486180e-20  2.26767464e-01 -1.58813678e-19 -8.97232272e-20\n",
      " -1.22145729e-19 -1.51509428e-19  1.12060672e-19 -3.48318635e-19]\n",
      "[ 2.50938945  0.          2.78354615  1.79425782 13.08579183  0.\n",
      "  0.73716363  3.35344995  0.          0.          8.93825054  0.\n",
      "  7.02955161  0.          4.71068649  3.18873635  2.06090107 10.08166738\n",
      "  3.0481157   8.53268239]\n"
     ]
    }
   ],
   "source": [
    "import cvxpy as cp\n",
    "import numpy as np\n",
    "\n",
    "# Problem data.\n",
    "m = 30\n",
    "n = 20\n",
    "np.random.seed(1)\n",
    "A = np.random.randn(m, n)\n",
    "b = np.random.randn(m)\n",
    "\n",
    "# Construct the problem.\n",
    "x = cp.Variable(n)\n",
    "objective = cp.Minimize(cp.sum_squares(A @ x - b))\n",
    "constraints = [0 <= x, x <= 1]\n",
    "prob = cp.Problem(objective, constraints)\n",
    "\n",
    "# The optimal objective value is returned by `prob.solve()`.\n",
    "result = prob.solve()\n",
    "# The optimal value for x is stored in `x.value`.\n",
    "print(x.value)\n",
    "# The optimal Lagrange multiplier for a constraint is stored in\n",
    "# `constraint.dual_value`.\n",
    "print(constraints[0].dual_value)"
   ]
  },
  {
   "cell_type": "code",
   "execution_count": null,
   "metadata": {},
   "outputs": [
    {
     "ename": "ValueError",
     "evalue": "setting an array element with a sequence.",
     "output_type": "error",
     "traceback": [
      "\u001b[1;31m---------------------------------------------------------------------------\u001b[0m",
      "\u001b[1;31mTypeError\u001b[0m                                 Traceback (most recent call last)",
      "\u001b[1;31mTypeError\u001b[0m: float() argument must be a string or a real number, not 'multiply'",
      "\nThe above exception was the direct cause of the following exception:\n",
      "\u001b[1;31mValueError\u001b[0m                                Traceback (most recent call last)",
      "Cell \u001b[1;32mIn[4], line 6\u001b[0m\n\u001b[0;32m      1\u001b[0m \u001b[39m# Define objective function and constraints\u001b[39;00m\n\u001b[0;32m      2\u001b[0m obj \u001b[39m=\u001b[39m cp\u001b[39m.\u001b[39mMinimize(cp\u001b[39m.\u001b[39msum(cp\u001b[39m.\u001b[39mdiag(sigma \u001b[39m@\u001b[39m T0)) \u001b[39m+\u001b[39m mu\u001b[39m.\u001b[39mT \u001b[39m@\u001b[39m bet \u001b[39m+\u001b[39m alph)\n\u001b[0;32m      3\u001b[0m constraints \u001b[39m=\u001b[39m [X1[\u001b[39m0\u001b[39m, \u001b[39m0\u001b[39m] \u001b[39m==\u001b[39m alph,\n\u001b[0;32m      4\u001b[0m                X1[\u001b[39m1\u001b[39m:\u001b[39m3\u001b[39m\u001b[39m*\u001b[39mn\u001b[39m+\u001b[39m\u001b[39m1\u001b[39m, \u001b[39m0\u001b[39m] \u001b[39m==\u001b[39m \u001b[39m0.5\u001b[39m \u001b[39m*\u001b[39m bet,\n\u001b[0;32m      5\u001b[0m                X1[\u001b[39m1\u001b[39m:\u001b[39m3\u001b[39m\u001b[39m*\u001b[39mn\u001b[39m+\u001b[39m\u001b[39m1\u001b[39m, \u001b[39m1\u001b[39m:\u001b[39m3\u001b[39m\u001b[39m*\u001b[39mn\u001b[39m+\u001b[39m\u001b[39m1\u001b[39m] \u001b[39m==\u001b[39m T0,\n\u001b[1;32m----> 6\u001b[0m                X1[\u001b[39m3\u001b[39;49m\u001b[39m*\u001b[39;49mn\u001b[39m+\u001b[39;49m\u001b[39m1\u001b[39;49m:\u001b[39m7\u001b[39;49m\u001b[39m*\u001b[39;49mn\u001b[39m+\u001b[39;49m\u001b[39m2\u001b[39;49m, \u001b[39m0\u001b[39;49m] \u001b[39m==\u001b[39;49m \u001b[39m0.5\u001b[39;49m \u001b[39m*\u001b[39;49m rho,\n\u001b[0;32m      7\u001b[0m                X1[\u001b[39m3\u001b[39m\u001b[39m*\u001b[39mn\u001b[39m+\u001b[39m\u001b[39m1\u001b[39m:\u001b[39m6\u001b[39m\u001b[39m*\u001b[39mn\u001b[39m+\u001b[39m\u001b[39m2\u001b[39m, \u001b[39m1\u001b[39m:\u001b[39m6\u001b[39m\u001b[39m*\u001b[39mn\u001b[39m+\u001b[39m\u001b[39m2\u001b[39m] \u001b[39m==\u001b[39m cp\u001b[39m.\u001b[39mzeros((\u001b[39m3\u001b[39m\u001b[39m*\u001b[39mn\u001b[39m+\u001b[39m\u001b[39m1\u001b[39m, \u001b[39m6\u001b[39m\u001b[39m*\u001b[39mn\u001b[39m+\u001b[39m\u001b[39m1\u001b[39m)),\n\u001b[0;32m      8\u001b[0m                X1[\u001b[39m6\u001b[39m\u001b[39m*\u001b[39mn\u001b[39m+\u001b[39m\u001b[39m2\u001b[39m:\u001b[39m7\u001b[39m\u001b[39m*\u001b[39mn\u001b[39m+\u001b[39m\u001b[39m2\u001b[39m, \u001b[39m1\u001b[39m:\u001b[39m7\u001b[39m\u001b[39m*\u001b[39mn\u001b[39m+\u001b[39m\u001b[39m2\u001b[39m] \u001b[39m==\u001b[39m cp\u001b[39m.\u001b[39mzeros((n, \u001b[39m7\u001b[39m\u001b[39m*\u001b[39mn\u001b[39m+\u001b[39m\u001b[39m1\u001b[39m)),\n\u001b[0;32m      9\u001b[0m                cp\u001b[39m.\u001b[39msum(s[\u001b[39m0\u001b[39m:n]) \u001b[39m<\u001b[39m\u001b[39m=\u001b[39m T,\n\u001b[0;32m     10\u001b[0m                s \u001b[39m>\u001b[39m\u001b[39m=\u001b[39m \u001b[39m0\u001b[39m]\n\u001b[0;32m     12\u001b[0m \u001b[39mfor\u001b[39;00m i \u001b[39min\u001b[39;00m \u001b[39mrange\u001b[39m(n):\n\u001b[0;32m     13\u001b[0m     T1i \u001b[39m=\u001b[39m T1[i, \u001b[39m0\u001b[39m]\n",
      "File \u001b[1;32md:\\python\\Lib\\site-packages\\cvxpy\\expressions\\expression.py:49\u001b[0m, in \u001b[0;36m_cast_other.<locals>.cast_op\u001b[1;34m(self, other)\u001b[0m\n\u001b[0;32m     45\u001b[0m \u001b[39m@wraps\u001b[39m(binary_op)\n\u001b[0;32m     46\u001b[0m \u001b[39mdef\u001b[39;00m \u001b[39mcast_op\u001b[39m(\u001b[39mself\u001b[39m, other):\n\u001b[0;32m     47\u001b[0m \u001b[39m    \u001b[39m\u001b[39m\"\"\"A wrapped binary operator that can handle non-Expression arguments.\u001b[39;00m\n\u001b[0;32m     48\u001b[0m \u001b[39m    \"\"\"\u001b[39;00m\n\u001b[1;32m---> 49\u001b[0m     other \u001b[39m=\u001b[39m \u001b[39mself\u001b[39;49m\u001b[39m.\u001b[39;49mcast_to_const(other)\n\u001b[0;32m     50\u001b[0m     \u001b[39mreturn\u001b[39;00m binary_op(\u001b[39mself\u001b[39m, other)\n",
      "File \u001b[1;32md:\\python\\Lib\\site-packages\\cvxpy\\expressions\\expression.py:526\u001b[0m, in \u001b[0;36mExpression.cast_to_const\u001b[1;34m(expr)\u001b[0m\n\u001b[0;32m    521\u001b[0m         \u001b[39mif\u001b[39;00m \u001b[39misinstance\u001b[39m(elem, Expression):\n\u001b[0;32m    522\u001b[0m             \u001b[39mraise\u001b[39;00m \u001b[39mValueError\u001b[39;00m(\n\u001b[0;32m    523\u001b[0m                 \u001b[39m\"\u001b[39m\u001b[39mThe input must be a single CVXPY Expression, not a list. \u001b[39m\u001b[39m\"\u001b[39m\n\u001b[0;32m    524\u001b[0m                 \u001b[39m\"\u001b[39m\u001b[39mCombine Expressions using atoms such as bmat, hstack, and vstack.\u001b[39m\u001b[39m\"\u001b[39m\n\u001b[0;32m    525\u001b[0m             )\n\u001b[1;32m--> 526\u001b[0m \u001b[39mreturn\u001b[39;00m expr \u001b[39mif\u001b[39;00m \u001b[39misinstance\u001b[39m(expr, Expression) \u001b[39melse\u001b[39;00m cvxtypes\u001b[39m.\u001b[39;49mconstant()(expr)\n",
      "File \u001b[1;32md:\\python\\Lib\\site-packages\\cvxpy\\expressions\\constants\\constant.py:48\u001b[0m, in \u001b[0;36mConstant.__init__\u001b[1;34m(self, value)\u001b[0m\n\u001b[0;32m     46\u001b[0m     \u001b[39mself\u001b[39m\u001b[39m.\u001b[39m_sparse \u001b[39m=\u001b[39m \u001b[39mTrue\u001b[39;00m\n\u001b[0;32m     47\u001b[0m \u001b[39melse\u001b[39;00m:\n\u001b[1;32m---> 48\u001b[0m     \u001b[39mself\u001b[39m\u001b[39m.\u001b[39m_value \u001b[39m=\u001b[39m intf\u001b[39m.\u001b[39;49mDEFAULT_INTF\u001b[39m.\u001b[39;49mconst_to_matrix(value)\n\u001b[0;32m     49\u001b[0m     \u001b[39mself\u001b[39m\u001b[39m.\u001b[39m_sparse \u001b[39m=\u001b[39m \u001b[39mFalse\u001b[39;00m\n\u001b[0;32m     50\u001b[0m \u001b[39mself\u001b[39m\u001b[39m.\u001b[39m_imag: Optional[\u001b[39mbool\u001b[39m] \u001b[39m=\u001b[39m \u001b[39mNone\u001b[39;00m\n",
      "File \u001b[1;32md:\\python\\Lib\\site-packages\\cvxpy\\interface\\numpy_interface\\ndarray_interface.py:53\u001b[0m, in \u001b[0;36mNDArrayInterface.const_to_matrix\u001b[1;34m(self, value, convert_scalars)\u001b[0m\n\u001b[0;32m     51\u001b[0m     \u001b[39mreturn\u001b[39;00m result\n\u001b[0;32m     52\u001b[0m \u001b[39melse\u001b[39;00m:\n\u001b[1;32m---> 53\u001b[0m     \u001b[39mreturn\u001b[39;00m result\u001b[39m.\u001b[39mastype(numpy\u001b[39m.\u001b[39mfloat64)\n",
      "\u001b[1;31mValueError\u001b[0m: setting an array element with a sequence."
     ]
    }
   ],
   "source": [
    "# Define objective function and constraints\n",
    "obj = cp.Minimize(cp.sum(cp.diag(sigma @ T0)) + mu.T @ bet + alph)\n",
    "constraints = [X1[0, 0] == alph,\n",
    "               X1[1:3*n+1, 0] == 0.5 * bet,\n",
    "               X1[1:3*n+1, 1:3*n+1] == T0,\n",
    "               X1[3*n+1:7*n+2, 0] == 0.5 * rho,\n",
    "               X1[3*n+1:6*n+2, 1:6*n+2] == cp.zeros((3*n+1, 6*n+1)),\n",
    "               X1[6*n+2:7*n+2, 1:7*n+2] == cp.zeros((n, 7*n+1)),\n",
    "               cp.sum(s[0:n]) <= T,\n",
    "               s >= 0]\n",
    "\n",
    "for i in range(n):\n",
    "    T1i = T1[i, 0]\n",
    "    bi = b[i, 0]\n",
    "    C = A[i, 0:4*n+1]\n",
    "    Ai = C.T\n",
    "    Bi = cp.vstack((-bi, cp.zeros((3*n, 1)), Ai))\n",
    "    constraints.append(T1i * (Bi @ Bi.T) >> 0)\n",
    "\n",
    "# Solve the problem\n",
    "prob = cp.Problem(obj, constraints)\n",
    "prob.solve(solver=cp.MOSEK)\n",
    "\n",
    "# Print the optimal values\n",
    "print(\"Optimal value: \", prob.value)\n",
    "print(\"s: \", s.value)\n",
    "print(\"alph: \", alph.value)\n",
    "print(\"bet: \", bet.value)\n",
    "print(\"T0: \", T0.value)\n",
    "print(\"T1: \", T1.value)\n",
    "print(\"X1: \", X1.value)\n"
   ]
  },
  {
   "cell_type": "markdown",
   "metadata": {},
   "source": [
    "import cvxpy as cp\n",
    "import numpy as np\n",
    "\n",
    "# Define problem parameters\n",
    "n = 2\n",
    "c = np.ones((n+1, 1))\n",
    "b = np.vstack((c, np.zeros((n, 1))))\n",
    "mu = 0.3 * np.ones((3*n, 1))\n",
    "h = 0.5 * np.ones((n, 1))\n",
    "sigma1 = np.diag(h.flatten())\n",
    "sigma2 = np.diag(h.flatten())\n",
    "sigma = np.zeros((3*n, 3*n))\n",
    "sigma[0:n, 0:n] = sigma1 + sigma2\n",
    "sigma[n:2*n, n:2*n] = sigma1\n",
    "sigma[2*n:3*n, 2*n:3*n] = sigma2\n",
    "\n",
    "# Define matrices A, P, Q, and O\n",
    "P = np.zeros((n+1, n))\n",
    "P[0, 0] = -1\n",
    "P[n, n-1] = 1\n",
    "for i in range(1, n):\n",
    "    P[i, i-1] = 1\n",
    "    P[i, i] = -1\n",
    "\n",
    "Q = np.zeros((n, n))\n",
    "Q[n-1, n-1] = -1\n",
    "for i in range(n-1):\n",
    "    Q[i, i] = -1\n",
    "    Q[i, i+1] = 1\n",
    "\n",
    "O = np.zeros((n, n+1))\n",
    "for i in range(n):\n",
    "    O[i, i+1] = 1\n",
    "\n",
    "A = np.zeros((2*n+1, 4*n+2))\n",
    "A[0:n+1, 0:n+1] = np.eye(n+1)\n",
    "A[0:n+1, n+1:2*n+1] = np.zeros((n+1, n))\n",
    "A[0:n+1, 2*n+1:3*n+1] = P\n",
    "A[0:n+1, 3*n+1:4*n+1] = np.zeros((n+1, n))\n",
    "A[n+1:2*n+1, 0:n+1] = O\n",
    "A[n+1:2*n+1, n+1:2*n+1] = Q\n",
    "A[n+1:2*n+1, 2*n+1:3*n+1] = np.zeros((n, n))\n",
    "A[n+1:2*n+1, 3*n+1:4*n+1] = -np.eye(n)\n",
    "\n",
    "T = 8000\n",
    "\n",
    "# Define optimization variables\n",
    "s = cp.Variable(n)\n",
    "alph = cp.Variable()\n",
    "bet = cp.Variable(3*n)\n",
    "T0 = cp.Variable((3*n, 3*n), PSD=True)\n",
    "T1 = cp.Variable(2*n+1)\n",
    "X1 = cp.Variable((7*n+2, 7*n+2), PSD=True)\n",
    "\n",
    "rho = np.hstack((s[0:n-1] + s[1:n], s[n], 0, s[0:n], s[2:n], np.zeros((2, 1)), np.zeros((n, 1))))\n",
    "\n",
    "# Define objective function and constraints\n",
    "obj = cp.Minimize(cp.sum(cp.diag(sigma @ T0)) + mu.T @ bet + alph)\n",
    "constraints = [X1[0, 0] == alph,\n",
    "               X1[1:3*n+1, 0] == 0.5 * bet,\n",
    "               X1[1:3*n+1, 1:3*n+1] == T0,\n",
    "               X1[3*n+1:7*n+2, 0] == 0.5 * rho,\n",
    "               X1[3*n+1:6*n+2, 1:6*n+2] == np.zeros((3*n+1, 6*n+1)),\n",
    "               X1[6*n+2:7*n+2, 1:7*n+2] == np.zeros((n, 7*n+1)),\n",
    "               cp.sum(s[0:n]) <= T,\n",
    "               s >= 0]\n",
    "\n",
    "for i in range(n):\n",
    "    T1i = T1[i, 0]\n",
    "    bi = b[i, 0]\n",
    "    C = A[i, 0:4*n+1]\n",
    "    Ai = C.T\n",
    "    Bi = np.vstack((-bi, np.zeros((3*n, 1)), Ai))\n",
    "    constraints.append(T1i * (Bi @ Bi.T) >> 0)\n",
    "\n",
    "# Solve the problem\n",
    "prob = cp.Problem(obj, constraints)\n",
    "prob.solve(solver=cp.MOSEK)\n",
    "\n",
    "# Print the optimal values\n",
    "print(\"Optimal value: \", prob.value)\n",
    "print(\"s: \", s.value)\n",
    "print(\"alph: \", alph.value)\n",
    "print(\"bet: \", bet.value)\n",
    "print(\"T0: \", T0.value)\n",
    "print(\"T1: \", T1.value)\n",
    "print(\"X1: \", X1.value)"
   ]
  },
  {
   "cell_type": "code",
   "execution_count": null,
   "metadata": {},
   "outputs": [],
   "source": []
  },
  {
   "cell_type": "code",
   "execution_count": null,
   "metadata": {},
   "outputs": [
    {
     "ename": "IndexError",
     "evalue": "Too many indices for expression.",
     "output_type": "error",
     "traceback": [
      "\u001b[1;31m---------------------------------------------------------------------------\u001b[0m",
      "\u001b[1;31mIndexError\u001b[0m                                Traceback (most recent call last)",
      "Cell \u001b[1;32mIn[9], line 73\u001b[0m\n\u001b[0;32m     61\u001b[0m constraints \u001b[39m=\u001b[39m [\n\u001b[0;32m     62\u001b[0m     X1[\u001b[39m0\u001b[39m, \u001b[39m0\u001b[39m] \u001b[39m==\u001b[39m alph,\n\u001b[0;32m     63\u001b[0m     X1[\u001b[39m1\u001b[39m:\u001b[39m3\u001b[39m\u001b[39m*\u001b[39mn\u001b[39m+\u001b[39m\u001b[39m1\u001b[39m, \u001b[39m0\u001b[39m] \u001b[39m==\u001b[39m \u001b[39m1\u001b[39m\u001b[39m/\u001b[39m\u001b[39m2\u001b[39m \u001b[39m*\u001b[39m bet,\n\u001b[1;32m   (...)\u001b[0m\n\u001b[0;32m     69\u001b[0m     s \u001b[39m>\u001b[39m\u001b[39m=\u001b[39m \u001b[39m0\u001b[39m,\n\u001b[0;32m     70\u001b[0m ]\n\u001b[0;32m     72\u001b[0m \u001b[39mfor\u001b[39;00m i \u001b[39min\u001b[39;00m \u001b[39mrange\u001b[39m(n):\n\u001b[1;32m---> 73\u001b[0m     T1i \u001b[39m=\u001b[39m T1[i, \u001b[39m0\u001b[39;49m]\n\u001b[0;32m     74\u001b[0m     bi \u001b[39m=\u001b[39m b[i, \u001b[39m0\u001b[39m]\n\u001b[0;32m     75\u001b[0m     C \u001b[39m=\u001b[39m A[i, \u001b[39m0\u001b[39m:\u001b[39m4\u001b[39m\u001b[39m*\u001b[39mn\u001b[39m+\u001b[39m\u001b[39m1\u001b[39m]\n",
      "File \u001b[1;32md:\\python\\Lib\\site-packages\\cvxpy\\expressions\\expression.py:472\u001b[0m, in \u001b[0;36mExpression.__getitem__\u001b[1;34m(self, key)\u001b[0m\n\u001b[0;32m    470\u001b[0m     \u001b[39mreturn\u001b[39;00m cvxtypes\u001b[39m.\u001b[39mspecial_index()(\u001b[39mself\u001b[39m, key)\n\u001b[0;32m    471\u001b[0m \u001b[39melse\u001b[39;00m:\n\u001b[1;32m--> 472\u001b[0m     \u001b[39mreturn\u001b[39;00m cvxtypes\u001b[39m.\u001b[39;49mindex()(\u001b[39mself\u001b[39;49m, key)\n",
      "File \u001b[1;32md:\\python\\Lib\\site-packages\\cvxpy\\atoms\\affine\\index.py:50\u001b[0m, in \u001b[0;36mindex.__init__\u001b[1;34m(self, expr, key, orig_key)\u001b[0m\n\u001b[0;32m     48\u001b[0m \u001b[39mif\u001b[39;00m orig_key \u001b[39mis\u001b[39;00m \u001b[39mNone\u001b[39;00m:\n\u001b[0;32m     49\u001b[0m     \u001b[39mself\u001b[39m\u001b[39m.\u001b[39m_orig_key \u001b[39m=\u001b[39m key\n\u001b[1;32m---> 50\u001b[0m     \u001b[39mself\u001b[39m\u001b[39m.\u001b[39mkey \u001b[39m=\u001b[39m ku\u001b[39m.\u001b[39;49mvalidate_key(key, expr\u001b[39m.\u001b[39;49mshape)\n\u001b[0;32m     51\u001b[0m \u001b[39melse\u001b[39;00m:\n\u001b[0;32m     52\u001b[0m     \u001b[39mself\u001b[39m\u001b[39m.\u001b[39m_orig_key \u001b[39m=\u001b[39m orig_key\n",
      "File \u001b[1;32md:\\python\\Lib\\site-packages\\cvxpy\\utilities\\key_utils.py:54\u001b[0m, in \u001b[0;36mvalidate_key\u001b[1;34m(key, shape)\u001b[0m\n\u001b[0;32m     52\u001b[0m slices \u001b[39m=\u001b[39m \u001b[39mlen\u001b[39m(key) \u001b[39m-\u001b[39m none_count\n\u001b[0;32m     53\u001b[0m \u001b[39mif\u001b[39;00m slices \u001b[39m>\u001b[39m \u001b[39mlen\u001b[39m(shape):\n\u001b[1;32m---> 54\u001b[0m     \u001b[39mraise\u001b[39;00m \u001b[39mIndexError\u001b[39;00m(\u001b[39m\"\u001b[39m\u001b[39mToo many indices for expression.\u001b[39m\u001b[39m\"\u001b[39m)\n\u001b[0;32m     55\u001b[0m \u001b[39melif\u001b[39;00m slices \u001b[39m<\u001b[39m \u001b[39mlen\u001b[39m(shape):\n\u001b[0;32m     56\u001b[0m     \u001b[39m# Add : to the right.\u001b[39;00m\n\u001b[0;32m     57\u001b[0m     key \u001b[39m=\u001b[39m \u001b[39mtuple\u001b[39m(\u001b[39mlist\u001b[39m(key) \u001b[39m+\u001b[39m [\u001b[39mslice\u001b[39m(\u001b[39mNone\u001b[39;00m, \u001b[39mNone\u001b[39;00m, \u001b[39mNone\u001b[39;00m)]\u001b[39m*\u001b[39m(\u001b[39mlen\u001b[39m(shape) \u001b[39m-\u001b[39m slices))\n",
      "\u001b[1;31mIndexError\u001b[0m: Too many indices for expression."
     ]
    }
   ],
   "source": [
    "import cvxpy as cp\n",
    "import numpy as np\n",
    "\n",
    "# Define problem parameters\n",
    "n = 2\n",
    "c = np.ones((n+1, 1))\n",
    "b = np.vstack((c, np.zeros((n, 1))))\n",
    "mu = 0.3 * np.ones((3*n, 1))\n",
    "h = 0.5 * np.ones((n, 1))\n",
    "sigma1 = np.diag(h.flatten())\n",
    "sigma2 = np.diag(h.flatten())\n",
    "sigma = np.zeros((3*n, 3*n))\n",
    "sigma[0:n, 0:n] = sigma1 + sigma2\n",
    "sigma[n:2*n, n:2*n] = sigma1\n",
    "sigma[2*n:3*n, 2*n:3*n] = sigma2\n",
    "\n",
    "# Define matrices A, P, Q, and O\n",
    "P = np.zeros((n+1, n))\n",
    "P[0, 0] = -1\n",
    "P[n, n-1] = 1\n",
    "for i in range(1, n):\n",
    "    P[i, i-1] = 1\n",
    "    P[i, i] = -1\n",
    "\n",
    "Q = np.zeros((n, n))\n",
    "Q[n-1, n-1] = -1\n",
    "for i in range(n-1):\n",
    "    Q[i, i] = -1\n",
    "    Q[i, i+1] = 1\n",
    "\n",
    "O = np.zeros((n, n+1))\n",
    "for i in range(n):\n",
    "    O[i, i+1] = 1\n",
    "\n",
    "A = np.zeros((2*n+1, 4*n+2))\n",
    "A[0:n+1, 0:n+1] = np.eye(n+1)\n",
    "A[0:n+1, n+1:2*n+1] = np.zeros((n+1, n))\n",
    "A[0:n+1, 2*n+1:3*n+1] = P\n",
    "A[0:n+1, 3*n+1:4*n+1] = np.zeros((n+1, n))\n",
    "A[n+1:2*n+1, 0:n+1] = O\n",
    "A[n+1:2*n+1, n+1:2*n+1] = Q\n",
    "A[n+1:2*n+1, 2*n+1:3*n+1] = np.zeros((n, n))\n",
    "A[n+1:2*n+1, 3*n+1:4*n+1] = -np.eye(n)\n",
    "\n",
    "T = 8000\n",
    "\n",
    "# Define optimization variables\n",
    "s = cp.Variable(n)\n",
    "alph = cp.Variable()\n",
    "bet = cp.Variable(3*n)\n",
    "T0 = cp.Variable((3*n, 3*n), PSD=True)\n",
    "T1 = cp.Variable(2*n+1)\n",
    "X1 = cp.Variable((7*n+2, 7*n+2), PSD=True)\n",
    "\n",
    "rho = np.hstack((s[0:n-1] + s[1:n], s[n-1:n], np.array([0]), s[0:n-1], s[2:n], np.zeros((2,)), np.zeros((n,))))\n",
    "\n",
    "Y = np.zeros((7*n+2, 7*n+2))\n",
    "Z = X1 + Y\n",
    "# Define optimization problem\n",
    "obj = cp.Minimize(cp.sum(cp.diag(sigma @ T0)) + mu.T @ bet + alph)\n",
    "constraints = [\n",
    "    X1[0, 0] == alph,\n",
    "    X1[1:3*n+1, 0] == 1/2 * bet,\n",
    "    X1[1:3*n+1, 1:3*n+1] == T0,\n",
    "    #X1[3*n+1:7*n+2, 0] == 1/2 * rho,\n",
    "    X1[3*n+1:6*n+2, 1:6*n+2] == np.zeros((3*n+1, 6*n+1)),\n",
    "    X1[6*n+2:7*n+2, 1:7*n+2] == np.zeros((n, 7*n+1)),\n",
    "    cp.sum(s[0:n]) <= T,\n",
    "    s >= 0,\n",
    "]\n",
    "\n",
    "for i in range(n):\n",
    "    T1i = T1[i, 0]\n",
    "    bi = b[i, 0]\n",
    "    C = A[i, 0:4*n+1]\n",
    "    Ai = C.T\n",
    "    Bi = np.vstack((-bi, np.zeros((3*n, 1)), Ai))\n",
    "    Y += T1i * (Bi @ Bi.T)\n",
    "\n",
    "prob = cp.Problem(obj, constraints)\n",
    "prob.solve(solver=cp.MOSEK)\n",
    "\n",
    "# Print the optimal values\n",
    "print(\"Optimal value: \", prob.value)\n",
    "print(\"Optimal s: \", s.value)\n",
    "print(\"Optimal alph: \", alph.value)\n",
    "print(\"Optimal bet: \", bet.value)\n",
    "print(\"Optimal T0: \", T0.value)\n",
    "print(\"Optimal T1: \", T1.value)\n",
    "print(\"Optimal X1: \", X1.value)"
   ]
  }
 ],
 "metadata": {
  "kernelspec": {
   "display_name": "Python 3",
   "language": "python",
   "name": "python3"
  },
  "language_info": {
   "codemirror_mode": {
    "name": "ipython",
    "version": 3
   },
   "file_extension": ".py",
   "mimetype": "text/x-python",
   "name": "python",
   "nbconvert_exporter": "python",
   "pygments_lexer": "ipython3",
   "version": "3.11.2"
  },
  "orig_nbformat": 4
 },
 "nbformat": 4,
 "nbformat_minor": 2
}
